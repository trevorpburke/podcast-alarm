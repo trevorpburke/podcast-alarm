{
 "cells": [
  {
   "cell_type": "markdown",
   "metadata": {},
   "source": [
    "# Podcast as Alarm Clock?\n",
    "\n",
    "I listen to NPR's Up First every morning to catch up on current events. It's thorough, but concise. I think it'd be nice to wake up to the NPR team discussing what's going on in the world.\n",
    "\n",
    "Surprisingly it seems that this isn't a feature readily available on iOS, so I thought I'd turn to scripting it with Python."
   ]
  },
  {
   "cell_type": "markdown",
   "metadata": {},
   "source": [
    "## First Steps\n",
    "\n",
    "I wasn't really sure where to begin as most of my Python knowledge and skills lies with using pandas and grabbing data from SQL databases. This seemed like it would require some external libraries, the NPR API, and some web scrapping. \n",
    "\n",
    "### RSS Feeds\n",
    "\n",
    "I recalled using RSS feeds a long time ago to track websites I liked, but hadn't used them in a while. So, I googled NPR Up First RSS feed and found [this](https://www.npr.org/rss/podcast.php?id=510318). \n",
    "\n",
    "    https://www.npr.org/rss/podcast.php?id=510318\n",
    "    \n",
    "Seems most NPR podcasts are separated by a 6 digit ID. Here are some others:\n",
    "\n",
    "    Planet Money: https://www.npr.org/rss/podcast.php?id=510289\n",
    "    \n",
    "    Invisibilia: https://www.npr.org/rss/podcast.php?id=510307\n",
    "    \n",
    "There's a place to start!\n",
    "\n",
    "Through some trial and error I was able to get a list of 24 podcasts that use this 6 digit ID."
   ]
  },
  {
   "cell_type": "code",
   "execution_count": 1,
   "metadata": {
    "collapsed": true
   },
   "outputs": [],
   "source": [
    "# let's import an RSS feed package\n",
    "import feedparser"
   ]
  },
  {
   "cell_type": "code",
   "execution_count": 2,
   "metadata": {
    "collapsed": false
   },
   "outputs": [
    {
     "name": "stdout",
     "output_type": "stream",
     "text": [
      "{'feed': {'title': 'Up First', 'title_detail': {'type': 'text/plain', 'language': None, 'base': 'https://www.npr.org/rss/podcast.php?id=510318', 'value': 'Up First'}, 'links': [{'rel': 'alternate', 'type': 'text/html', 'href': 'http://www.npr.org/programs/morning-edition/'}], 'link': 'http://www.npr.org/programs/morning-edition/', 'subtitle': \"NPR's Up First is the news you need to start your day. The biggest stories and ideas — from politics to pop culture — in 10 minutes. Hosted by Rachel Martin, David Greene and Steve Inskeep, with reporting and analysis from NPR News. Available weekdays by 6 a.m. ET. Subscribe and listen, then support your local NPR station at donate.npr.org.\", 'subtitle_detail': {'type': 'text/html', 'language': None, 'base': 'https://www.npr.org/rss/podcast.php?id=510318', 'value': \"NPR's Up First is the news you need to start your day. The biggest stories and ideas — from politics to pop culture — in 10 minutes. Hosted by Rachel Martin, David Greene and Steve Inskeep, with reporting and analysis from NPR News. Available weekdays by 6 a.m. ET. Subscribe and listen, then support your local NPR station at donate.npr.org.\"}, 'rights': 'Copyright 2015 NPR - For Personal Use Only', 'rights_detail': {'type': 'text/plain', 'language': None, 'base': 'https://www.npr.org/rss/podcast.php?id=510318', 'value': 'Copyright 2015 NPR - For Personal Use Only'}, 'generator_detail': {'name': 'NPR API RSS Generator 0.94'}, 'generator': 'NPR API RSS Generator 0.94', 'language': 'en-us', 'summary': \"NPR's Up First is the news you need to start your day. The biggest stories and ideas — from politics to pop culture — in 10 minutes. Hosted by Rachel Martin, David Greene and Steve Inskeep, with reporting and analysis from NPR News. Available weekdays by 6 a.m. ET. Subscribe and listen, then support your local NPR station at donate.npr.org.\", 'summary_detail': {'type': 'text/plain', 'language': None, 'base': 'https://www.npr.org/rss/podcast.php?id=510318', 'value': \"NPR's Up First is the news you need to start your day. The biggest stories and ideas — from politics to pop culture — in 10 minutes. Hosted by Rachel Martin, David Greene and Steve Inskeep, with reporting and analysis from NPR News. Available weekdays by 6 a.m. ET. Subscribe and listen, then support your local NPR station at donate.npr.org.\"}, 'authors': [{'name': 'NPR', 'email': 'podcasts@npr.org'}], 'author': 'NPR (podcasts@npr.org)', 'author_detail': {'name': 'NPR', 'email': 'podcasts@npr.org'}, 'itunes_block': 0, 'publisher_detail': {'email': 'podcasts@npr.org', 'name': 'NPR'}, 'tags': [{'term': 'News & Politics', 'scheme': 'http://www.itunes.com/', 'label': None}], 'image': {'href': 'https://media.npr.org/assets/img/2017/03/21/upfirst_sq-ffcb53c89446b62b66fefb97b9356ad49b31bc5d.png?s=200', 'title': 'Up First', 'title_detail': {'type': 'text/plain', 'language': None, 'base': 'https://www.npr.org/rss/podcast.php?id=510318', 'value': 'Up First'}, 'links': [{'rel': 'alternate', 'type': 'text/html', 'href': 'http://www.npr.org/programs/morning-edition/'}], 'link': 'http://www.npr.org/programs/morning-edition/'}, 'updated': 'Wed, 04 Oct 2017 05:45:00 -0400', 'updated_parsed': time.struct_time(tm_year=2017, tm_mon=10, tm_mday=4, tm_hour=9, tm_min=45, tm_sec=0, tm_wday=2, tm_yday=277, tm_isdst=0)}, 'entries': [{'title': 'Wednesday, October 4th, 2017', 'title_detail': {'type': 'text/plain', 'language': None, 'base': 'https://www.npr.org/rss/podcast.php?id=510318', 'value': 'Wednesday, October 4th, 2017'}, 'summary': \"What have police learned about Stephen Paddock's cache of weapons and preparations for the mass shooting he carried out in Las Vegas? And how might that massacre shape the debate around gun control?\", 'summary_detail': {'type': 'text/html', 'language': None, 'base': 'https://www.npr.org/rss/podcast.php?id=510318', 'value': \"What have police learned about Stephen Paddock's cache of weapons and preparations for the mass shooting he carried out in Las Vegas? And how might that massacre shape the debate around gun control?\"}, 'published': 'Wed, 04 Oct 2017 05:45:00 -0400', 'published_parsed': time.struct_time(tm_year=2017, tm_mon=10, tm_mday=4, tm_hour=9, tm_min=45, tm_sec=0, tm_wday=2, tm_yday=277, tm_isdst=0), 'rights': 'Copyright 2015 NPR - For Personal Use Only', 'rights_detail': {'type': 'text/plain', 'language': None, 'base': 'https://www.npr.org/rss/podcast.php?id=510318', 'value': 'Copyright 2015 NPR - For Personal Use Only'}, 'id': 'https://www.npr.org/rss/05e760c0-76d4-49ab-907a-0f949c0f45ff', 'guidislink': True, 'link': 'https://www.npr.org/rss/05e760c0-76d4-49ab-907a-0f949c0f45ff', 'itunes_title': 'Wednesday, October 4th, 2017', 'authors': [{'name': 'NPR'}], 'author': 'NPR', 'author_detail': {'name': 'NPR'}, 'content': [{'type': 'text/plain', 'language': None, 'base': 'https://www.npr.org/rss/podcast.php?id=510318', 'value': \"What have police learned about Stephen Paddock's cache of weapons and preparations for the mass shooting he carried out in Las Vegas? And how might that massacre shape the debate around gun control?\"}, {'type': 'text/html', 'language': None, 'base': 'https://www.npr.org/rss/podcast.php?id=510318', 'value': \"What have police learned about Stephen Paddock's cache of weapons and preparations for the mass shooting he carried out in Las Vegas? And how might that massacre shape the debate around gun control?\"}], 'image': {'href': 'https://media.npr.org/assets/img/2017/10/04/thumbnail_3000x1688_wide-fde023c1eeb1861196a5f8346c7df5ee9d92e808.jpg?s=1400'}, 'itunes_duration': '762', 'itunes_explicit': None, 'links': [{'length': '0', 'type': 'audio/mpeg', 'href': 'https://play.podtrac.com/npr-510318/npr.mc.tritondigital.com/NPR_510318/media/anon.npr-mp3/npr/upfirst/2017/10/20171004_upfirst_100417upfirst.mp3?orgId=1&d=762&p=510318&story=555523076&t=podcast&e=555523076&ft=pod&f=510318', 'rel': 'enclosure'}]}, {'title': 'Tuesday, October 3rd, 2017', 'title_detail': {'type': 'text/plain', 'language': None, 'base': 'https://www.npr.org/rss/podcast.php?id=510318', 'value': 'Tuesday, October 3rd, 2017'}, 'summary': 'How has Las Vegas absorbed the blow of the worst mass shooting in generations? Also, President Trump tours the damage from Hurricane Maria in Puerto Rico today. What do residents expect from their president?', 'summary_detail': {'type': 'text/html', 'language': None, 'base': 'https://www.npr.org/rss/podcast.php?id=510318', 'value': 'How has Las Vegas absorbed the blow of the worst mass shooting in generations? Also, President Trump tours the damage from Hurricane Maria in Puerto Rico today. What do residents expect from their president?'}, 'published': 'Tue, 03 Oct 2017 05:49:00 -0400', 'published_parsed': time.struct_time(tm_year=2017, tm_mon=10, tm_mday=3, tm_hour=9, tm_min=49, tm_sec=0, tm_wday=1, tm_yday=276, tm_isdst=0), 'rights': 'Copyright 2015 NPR - For Personal Use Only', 'rights_detail': {'type': 'text/plain', 'language': None, 'base': 'https://www.npr.org/rss/podcast.php?id=510318', 'value': 'Copyright 2015 NPR - For Personal Use Only'}, 'id': 'https://www.npr.org/rss/b1119e9b-cd2f-4d68-8c91-516b7d702c60', 'guidislink': True, 'link': 'https://www.npr.org/rss/b1119e9b-cd2f-4d68-8c91-516b7d702c60', 'itunes_title': 'Tuesday, October 3rd, 2017', 'authors': [{'name': 'NPR'}], 'author': 'NPR', 'author_detail': {'name': 'NPR'}, 'content': [{'type': 'text/plain', 'language': None, 'base': 'https://www.npr.org/rss/podcast.php?id=510318', 'value': 'How has Las Vegas absorbed the blow of the worst mass shooting in generations? Also, President Trump tours the damage from Hurricane Maria in Puerto Rico today. What do residents expect from their president?'}, {'type': 'text/html', 'language': None, 'base': 'https://www.npr.org/rss/podcast.php?id=510318', 'value': 'How has Las Vegas absorbed the blow of the worst mass shooting in generations? Also, President Trump tours the damage from Hurricane Maria in Puerto Rico today. What do residents expect from their president?'}], 'image': {'href': 'https://media.npr.org/assets/img/2017/10/03/thumbnail_3000x1688_wide-fde023c1eeb1861196a5f8346c7df5ee9d92e808.jpg?s=1400'}, 'itunes_duration': '893', 'itunes_explicit': None, 'links': [{'length': '0', 'type': 'audio/mpeg', 'href': 'https://play.podtrac.com/npr-510318/npr.mc.tritondigital.com/NPR_510318/media/anon.npr-mp3/npr/upfirst/2017/10/20171003_upfirst_100317upfirst.mp3?orgId=1&d=893&p=510318&story=555275816&t=podcast&e=555275816&ft=pod&f=510318', 'rel': 'enclosure'}]}, {'title': 'Special Update: Las Vegas Shooting', 'title_detail': {'type': 'text/plain', 'language': None, 'base': 'https://www.npr.org/rss/podcast.php?id=510318', 'value': 'Special Update: Las Vegas Shooting'}, 'summary': \"The deadliest mass shooting in modern U.S. history happened last night in Las Vegas, Nevada. NPR's Leila Fadel and Rachel Crosby of the Las Vegas Review-Journal report from the scene. NPR's Scott Detrow gives the view from Washington. More coverage throughout the day is available on npr.org and on your local public radio station.\", 'summary_detail': {'type': 'text/html', 'language': None, 'base': 'https://www.npr.org/rss/podcast.php?id=510318', 'value': \"The deadliest mass shooting in modern U.S. history happened last night in Las Vegas, Nevada. NPR's Leila Fadel and Rachel Crosby of the Las Vegas Review-Journal report from the scene. NPR's Scott Detrow gives the view from Washington. More coverage throughout the day is available on npr.org and on your local public radio station.\"}, 'published': 'Mon, 02 Oct 2017 08:49:00 -0400', 'published_parsed': time.struct_time(tm_year=2017, tm_mon=10, tm_mday=2, tm_hour=12, tm_min=49, tm_sec=0, tm_wday=0, tm_yday=275, tm_isdst=0), 'rights': 'Copyright 2015 NPR - For Personal Use Only', 'rights_detail': {'type': 'text/plain', 'language': None, 'base': 'https://www.npr.org/rss/podcast.php?id=510318', 'value': 'Copyright 2015 NPR - For Personal Use Only'}, 'id': 'https://www.npr.org/rss/f89b58a8-2c8b-43d8-8400-2eaf2bb3a462', 'guidislink': True, 'link': 'https://www.npr.org/rss/f89b58a8-2c8b-43d8-8400-2eaf2bb3a462', 'itunes_title': 'Special Update: Las Vegas Shooting', 'authors': [{'name': 'NPR'}], 'author': 'NPR', 'author_detail': {'name': 'NPR'}, 'content': [{'type': 'text/plain', 'language': None, 'base': 'https://www.npr.org/rss/podcast.php?id=510318', 'value': \"The deadliest mass shooting in modern U.S. history happened last night in Las Vegas, Nevada. NPR's Leila Fadel and Rachel Crosby of the Las Vegas Review-Journal report from the scene. NPR's Scott Detrow gives the view from Washington. More coverage throughout the day is available on npr.org and on your local public radio station.\"}, {'type': 'text/html', 'language': None, 'base': 'https://www.npr.org/rss/podcast.php?id=510318', 'value': \"The deadliest mass shooting in modern U.S. history happened last night in Las Vegas, Nevada. NPR's Leila Fadel and Rachel Crosby of the Las Vegas Review-Journal report from the scene. NPR's Scott Detrow gives the view from Washington. More coverage throughout the day is available on npr.org and on your local public radio station.\"}], 'image': {'href': 'https://media.npr.org/assets/img/2017/10/02/thumbnail_3000x1688_wide-fde023c1eeb1861196a5f8346c7df5ee9d92e808.jpg?s=1400'}, 'itunes_duration': '620', 'itunes_explicit': None, 'links': [{'length': '0', 'type': 'audio/mpeg', 'href': 'https://play.podtrac.com/npr-510318/npr.mc.tritondigital.com/NPR_510318/media/anon.npr-mp3/npr/upfirst/2017/10/20171002_upfirst_up_first_update_171002.mp3?orgId=1&d=620&p=510318&story=555005674&t=podcast&e=555005674&ft=pod&f=510318', 'rel': 'enclosure'}]}, {'title': 'Monday, October 2nd, 2017', 'title_detail': {'type': 'text/plain', 'language': None, 'base': 'https://www.npr.org/rss/podcast.php?id=510318', 'value': 'Monday, October 2nd, 2017'}, 'summary': 'A gunman opened fire at a concert in Las Vegas late last night. What happened and who carried out the attack? Also, how much aid has Puerto Rico received since a hurricane tore through the island almost two weeks ago?', 'summary_detail': {'type': 'text/html', 'language': None, 'base': 'https://www.npr.org/rss/podcast.php?id=510318', 'value': 'A gunman opened fire at a concert in Las Vegas late last night. What happened and who carried out the attack? Also, how much aid has Puerto Rico received since a hurricane tore through the island almost two weeks ago?'}, 'published': 'Mon, 02 Oct 2017 05:50:00 -0400', 'published_parsed': time.struct_time(tm_year=2017, tm_mon=10, tm_mday=2, tm_hour=9, tm_min=50, tm_sec=0, tm_wday=0, tm_yday=275, tm_isdst=0), 'rights': 'Copyright 2015 NPR - For Personal Use Only', 'rights_detail': {'type': 'text/plain', 'language': None, 'base': 'https://www.npr.org/rss/podcast.php?id=510318', 'value': 'Copyright 2015 NPR - For Personal Use Only'}, 'id': 'https://www.npr.org/rss/c1724fa1-6e53-4e81-95a9-0a6b7431a48d', 'guidislink': True, 'link': 'https://www.npr.org/rss/c1724fa1-6e53-4e81-95a9-0a6b7431a48d', 'itunes_title': 'Monday, October 2nd, 2017', 'authors': [{'name': 'NPR'}], 'author': 'NPR', 'author_detail': {'name': 'NPR'}, 'content': [{'type': 'text/plain', 'language': None, 'base': 'https://www.npr.org/rss/podcast.php?id=510318', 'value': 'A gunman opened fire at a concert in Las Vegas late last night. What happened and who carried out the attack? Also, how much aid has Puerto Rico received since a hurricane tore through the island almost two weeks ago?'}, {'type': 'text/html', 'language': None, 'base': 'https://www.npr.org/rss/podcast.php?id=510318', 'value': 'A gunman opened fire at a concert in Las Vegas late last night. What happened and who carried out the attack? Also, how much aid has Puerto Rico received since a hurricane tore through the island almost two weeks ago?'}], 'image': {'href': 'https://media.npr.org/assets/img/2017/10/02/thumbnail_3000x1688_wide-fde023c1eeb1861196a5f8346c7df5ee9d92e808.jpg?s=1400'}, 'itunes_duration': '761', 'itunes_explicit': None, 'links': [{'length': '0', 'type': 'audio/mpeg', 'href': 'https://play.podtrac.com/npr-510318/npr.mc.tritondigital.com/NPR_510318/media/anon.npr-mp3/npr/upfirst/2017/10/20171002_upfirst_100217upfirst.mp3?orgId=1&d=761&p=510318&story=554993196&t=podcast&e=554993196&ft=pod&f=510318', 'rel': 'enclosure'}]}, {'title': 'Friday, September 29th, 2017', 'title_detail': {'type': 'text/plain', 'language': None, 'base': 'https://www.npr.org/rss/podcast.php?id=510318', 'value': 'Friday, September 29th, 2017'}, 'summary': \"Health and Human Services Secretary Tom Price says he will pay back part of the cost of his charter flights. More NFL players protest President Trump's national anthem comments. Also, why Catalonia is divided over a referendum on independence from Spain.\", 'summary_detail': {'type': 'text/html', 'language': None, 'base': 'https://www.npr.org/rss/podcast.php?id=510318', 'value': \"Health and Human Services Secretary Tom Price says he will pay back part of the cost of his charter flights. More NFL players protest President Trump's national anthem comments. Also, why Catalonia is divided over a referendum on independence from Spain.\"}, 'published': 'Fri, 29 Sep 2017 05:51:00 -0400', 'published_parsed': time.struct_time(tm_year=2017, tm_mon=9, tm_mday=29, tm_hour=9, tm_min=51, tm_sec=0, tm_wday=4, tm_yday=272, tm_isdst=0), 'rights': 'Copyright 2015 NPR - For Personal Use Only', 'rights_detail': {'type': 'text/plain', 'language': None, 'base': 'https://www.npr.org/rss/podcast.php?id=510318', 'value': 'Copyright 2015 NPR - For Personal Use Only'}, 'id': 'https://www.npr.org/rss/8cf58fd2-cd98-45f3-a47e-024a07dbdb8f', 'guidislink': True, 'link': 'https://www.npr.org/rss/8cf58fd2-cd98-45f3-a47e-024a07dbdb8f', 'itunes_title': 'Friday, September 29th, 2017', 'authors': [{'name': 'NPR'}], 'author': 'NPR', 'author_detail': {'name': 'NPR'}, 'content': [{'type': 'text/plain', 'language': None, 'base': 'https://www.npr.org/rss/podcast.php?id=510318', 'value': \"Health and Human Services Secretary Tom Price says he will pay back part of the cost of his charter flights. More NFL players protest President Trump's national anthem comments. Also, why Catalonia is divided over a referendum on independence from Spain.\"}, {'type': 'text/html', 'language': None, 'base': 'https://www.npr.org/rss/podcast.php?id=510318', 'value': \"Health and Human Services Secretary Tom Price says he will pay back part of the cost of his charter flights. More NFL players protest President Trump's national anthem comments. Also, why Catalonia is divided over a referendum on independence from Spain.\"}], 'image': {'href': 'https://media.npr.org/assets/img/2017/09/29/thumbnail_3000x1688_wide-fde023c1eeb1861196a5f8346c7df5ee9d92e808.jpg?s=1400'}, 'itunes_duration': '852', 'itunes_explicit': None, 'links': [{'length': '0', 'type': 'audio/mpeg', 'href': 'https://play.podtrac.com/npr-510318/npr.mc.tritondigital.com/NPR_510318/media/anon.npr-mp3/npr/upfirst/2017/09/20170929_upfirst_92917upfirst.mp3?orgId=1&d=852&p=510318&story=554434260&t=podcast&e=554434260&ft=pod&f=510318', 'rel': 'enclosure'}]}], 'bozo': 0, 'headers': {'Server': 'Apache', 'X-Powered-By': 'PHP/5.6.30', 'X-Content-Type-Options': 'nosniff', 'X-XSS-Protection': '1; mode=block', 'X-Frame-Options': 'SAMEORIGIN', 'Content-Type': 'text/xml;charset=UTF-8', 'Content-Length': '10982', 'Cache-Control': 'max-age=0', 'Expires': 'Wed, 04 Oct 2017 22:43:09 GMT', 'Date': 'Wed, 04 Oct 2017 22:43:09 GMT', 'Connection': 'close'}, 'href': 'https://www.npr.org/rss/podcast.php?id=510318', 'status': 200, 'encoding': 'UTF-8', 'version': 'rss20', 'namespaces': {'npr': 'https://www.npr.org/rss/', 'nprml': 'https://api.npr.org/nprml', 'itunes': 'http://www.itunes.com/dtds/podcast-1.0.dtd', 'content': 'http://purl.org/rss/1.0/modules/content/', 'dc': 'http://purl.org/dc/elements/1.1/'}}\n"
     ]
    }
   ],
   "source": [
    "# we'll start by parsing Up First and see what we get\n",
    "feed = feedparser.parse('https://www.npr.org/rss/podcast.php?id=510318')\n",
    "print(feed)"
   ]
  },
  {
   "cell_type": "markdown",
   "metadata": {},
   "source": [
    "### RSS Feed Dictionary\n",
    "\n",
    "So, there's a lot to unpack here...\n",
    "\n",
    "The feedparser.parse function returns this massive dictionary, so I'll start by isolating the keys of this dictionary to determine, which have the data we want: the release date, show description, and mp3 URL.\n",
    "\n",
    "We'll also use the json module to pretty print this jumbled mess of data..."
   ]
  },
  {
   "cell_type": "code",
   "execution_count": 3,
   "metadata": {
    "collapsed": false
   },
   "outputs": [
    {
     "data": {
      "text/plain": [
       "dict_keys(['feed', 'entries', 'bozo', 'headers', 'href', 'status', 'encoding', 'version', 'namespaces'])"
      ]
     },
     "execution_count": 3,
     "metadata": {},
     "output_type": "execute_result"
    }
   ],
   "source": [
    "feed.keys()"
   ]
  },
  {
   "cell_type": "code",
   "execution_count": 4,
   "metadata": {
    "collapsed": true
   },
   "outputs": [],
   "source": [
    "import json"
   ]
  },
  {
   "cell_type": "code",
   "execution_count": 5,
   "metadata": {
    "collapsed": false
   },
   "outputs": [
    {
     "name": "stdout",
     "output_type": "stream",
     "text": [
      "[\n",
      "  {\n",
      "    \"author\": \"NPR\",\n",
      "    \"author_detail\": {\n",
      "      \"name\": \"NPR\"\n",
      "    },\n",
      "    \"authors\": [\n",
      "      {\n",
      "        \"name\": \"NPR\"\n",
      "      }\n",
      "    ],\n",
      "    \"content\": [\n",
      "      {\n",
      "        \"base\": \"https://www.npr.org/rss/podcast.php?id=510318\",\n",
      "        \"language\": null,\n",
      "        \"type\": \"text/plain\",\n",
      "        \"value\": \"What have police learned about Stephen Paddock's cache of weapons and preparations for the mass shooting he carried out in Las Vegas? And how might that massacre shape the debate around gun control?\"\n",
      "      },\n",
      "      {\n",
      "        \"base\": \"https://www.npr.org/rss/podcast.php?id=510318\",\n",
      "        \"language\": null,\n",
      "        \"type\": \"text/html\",\n",
      "        \"value\": \"What have police learned about Stephen Paddock's cache of weapons and preparations for the mass shooting he carried out in Las Vegas? And how might that massacre shape the debate around gun control?\"\n",
      "      }\n",
      "    ],\n",
      "    \"guidislink\": true,\n",
      "    \"id\": \"https://www.npr.org/rss/05e760c0-76d4-49ab-907a-0f949c0f45ff\",\n",
      "    \"image\": {\n",
      "      \"href\": \"https://media.npr.org/assets/img/2017/10/04/thumbnail_3000x1688_wide-fde023c1eeb1861196a5f8346c7df5ee9d92e808.jpg?s=1400\"\n",
      "    },\n",
      "    \"itunes_duration\": \"762\",\n",
      "    \"itunes_explicit\": null,\n",
      "    \"itunes_title\": \"Wednesday, October 4th, 2017\",\n",
      "    \"link\": \"https://www.npr.org/rss/05e760c0-76d4-49ab-907a-0f949c0f45ff\",\n",
      "    \"links\": [\n",
      "      {\n",
      "        \"href\": \"https://play.podtrac.com/npr-510318/npr.mc.tritondigital.com/NPR_510318/media/anon.npr-mp3/npr/upfirst/2017/10/20171004_upfirst_100417upfirst.mp3?orgId=1&d=762&p=510318&story=555523076&t=podcast&e=555523076&ft=pod&f=510318\",\n",
      "        \"length\": \"0\",\n",
      "        \"rel\": \"enclosure\",\n",
      "        \"type\": \"audio/mpeg\"\n",
      "      }\n",
      "    ],\n",
      "    \"published\": \"Wed, 04 Oct 2017 05:45:00 -0400\",\n",
      "    \"published_parsed\": [\n",
      "      2017,\n",
      "      10,\n",
      "      4,\n",
      "      9,\n",
      "      45,\n",
      "      0,\n",
      "      2,\n",
      "      277,\n",
      "      0\n",
      "    ],\n",
      "    \"rights\": \"Copyright 2015 NPR - For Personal Use Only\",\n",
      "    \"rights_detail\": {\n",
      "      \"base\": \"https://www.npr.org/rss/podcast.php?id=510318\",\n",
      "      \"language\": null,\n",
      "      \"type\": \"text/plain\",\n",
      "      \"value\": \"Copyright 2015 NPR - For Personal Use Only\"\n",
      "    },\n",
      "    \"summary\": \"What have police learned about Stephen Paddock's cache of weapons and preparations for the mass shooting he carried out in Las Vegas? And how might that massacre shape the debate around gun control?\",\n",
      "    \"summary_detail\": {\n",
      "      \"base\": \"https://www.npr.org/rss/podcast.php?id=510318\",\n",
      "      \"language\": null,\n",
      "      \"type\": \"text/html\",\n",
      "      \"value\": \"What have police learned about Stephen Paddock's cache of weapons and preparations for the mass shooting he carried out in Las Vegas? And how might that massacre shape the debate around gun control?\"\n",
      "    },\n",
      "    \"title\": \"Wednesday, October 4th, 2017\",\n",
      "    \"title_detail\": {\n",
      "      \"base\": \"https://www.npr.org/rss/podcast.php?id=510318\",\n",
      "      \"language\": null,\n",
      "      \"type\": \"text/plain\",\n",
      "      \"value\": \"Wednesday, October 4th, 2017\"\n",
      "    }\n",
      "  },\n",
      "  {\n",
      "    \"author\": \"NPR\",\n",
      "    \"author_detail\": {\n",
      "      \"name\": \"NPR\"\n",
      "    },\n",
      "    \"authors\": [\n",
      "      {\n",
      "        \"name\": \"NPR\"\n",
      "      }\n",
      "    ],\n",
      "    \"content\": [\n",
      "      {\n",
      "        \"base\": \"https://www.npr.org/rss/podcast.php?id=510318\",\n",
      "        \"language\": null,\n",
      "        \"type\": \"text/plain\",\n",
      "        \"value\": \"How has Las Vegas absorbed the blow of the worst mass shooting in generations? Also, President Trump tours the damage from Hurricane Maria in Puerto Rico today. What do residents expect from their president?\"\n",
      "      },\n",
      "      {\n",
      "        \"base\": \"https://www.npr.org/rss/podcast.php?id=510318\",\n",
      "        \"language\": null,\n",
      "        \"type\": \"text/html\",\n",
      "        \"value\": \"How has Las Vegas absorbed the blow of the worst mass shooting in generations? Also, President Trump tours the damage from Hurricane Maria in Puerto Rico today. What do residents expect from their president?\"\n",
      "      }\n",
      "    ],\n",
      "    \"guidislink\": true,\n",
      "    \"id\": \"https://www.npr.org/rss/b1119e9b-cd2f-4d68-8c91-516b7d702c60\",\n",
      "    \"image\": {\n",
      "      \"href\": \"https://media.npr.org/assets/img/2017/10/03/thumbnail_3000x1688_wide-fde023c1eeb1861196a5f8346c7df5ee9d92e808.jpg?s=1400\"\n",
      "    },\n",
      "    \"itunes_duration\": \"893\",\n",
      "    \"itunes_explicit\": null,\n",
      "    \"itunes_title\": \"Tuesday, October 3rd, 2017\",\n",
      "    \"link\": \"https://www.npr.org/rss/b1119e9b-cd2f-4d68-8c91-516b7d702c60\",\n",
      "    \"links\": [\n",
      "      {\n",
      "        \"href\": \"https://play.podtrac.com/npr-510318/npr.mc.tritondigital.com/NPR_510318/media/anon.npr-mp3/npr/upfirst/2017/10/20171003_upfirst_100317upfirst.mp3?orgId=1&d=893&p=510318&story=555275816&t=podcast&e=555275816&ft=pod&f=510318\",\n",
      "        \"length\": \"0\",\n",
      "        \"rel\": \"enclosure\",\n",
      "        \"type\": \"audio/mpeg\"\n",
      "      }\n",
      "    ],\n",
      "    \"published\": \"Tue, 03 Oct 2017 05:49:00 -0400\",\n",
      "    \"published_parsed\": [\n",
      "      2017,\n",
      "      10,\n",
      "      3,\n",
      "      9,\n",
      "      49,\n",
      "      0,\n",
      "      1,\n",
      "      276,\n",
      "      0\n",
      "    ],\n",
      "    \"rights\": \"Copyright 2015 NPR - For Personal Use Only\",\n",
      "    \"rights_detail\": {\n",
      "      \"base\": \"https://www.npr.org/rss/podcast.php?id=510318\",\n",
      "      \"language\": null,\n",
      "      \"type\": \"text/plain\",\n",
      "      \"value\": \"Copyright 2015 NPR - For Personal Use Only\"\n",
      "    },\n",
      "    \"summary\": \"How has Las Vegas absorbed the blow of the worst mass shooting in generations? Also, President Trump tours the damage from Hurricane Maria in Puerto Rico today. What do residents expect from their president?\",\n",
      "    \"summary_detail\": {\n",
      "      \"base\": \"https://www.npr.org/rss/podcast.php?id=510318\",\n",
      "      \"language\": null,\n",
      "      \"type\": \"text/html\",\n",
      "      \"value\": \"How has Las Vegas absorbed the blow of the worst mass shooting in generations? Also, President Trump tours the damage from Hurricane Maria in Puerto Rico today. What do residents expect from their president?\"\n",
      "    },\n",
      "    \"title\": \"Tuesday, October 3rd, 2017\",\n",
      "    \"title_detail\": {\n",
      "      \"base\": \"https://www.npr.org/rss/podcast.php?id=510318\",\n",
      "      \"language\": null,\n",
      "      \"type\": \"text/plain\",\n",
      "      \"value\": \"Tuesday, October 3rd, 2017\"\n",
      "    }\n",
      "  },\n",
      "  {\n",
      "    \"author\": \"NPR\",\n",
      "    \"author_detail\": {\n",
      "      \"name\": \"NPR\"\n",
      "    },\n",
      "    \"authors\": [\n",
      "      {\n",
      "        \"name\": \"NPR\"\n",
      "      }\n",
      "    ],\n",
      "    \"content\": [\n",
      "      {\n",
      "        \"base\": \"https://www.npr.org/rss/podcast.php?id=510318\",\n",
      "        \"language\": null,\n",
      "        \"type\": \"text/plain\",\n",
      "        \"value\": \"The deadliest mass shooting in modern U.S. history happened last night in Las Vegas, Nevada. NPR's Leila Fadel and Rachel Crosby of the Las Vegas Review-Journal report from the scene. NPR's Scott Detrow gives the view from Washington. More coverage throughout the day is available on npr.org and on your local public radio station.\"\n",
      "      },\n",
      "      {\n",
      "        \"base\": \"https://www.npr.org/rss/podcast.php?id=510318\",\n",
      "        \"language\": null,\n",
      "        \"type\": \"text/html\",\n",
      "        \"value\": \"The deadliest mass shooting in modern U.S. history happened last night in Las Vegas, Nevada. NPR's Leila Fadel and Rachel Crosby of the Las Vegas Review-Journal report from the scene. NPR's Scott Detrow gives the view from Washington. More coverage throughout the day is available on npr.org and on your local public radio station.\"\n",
      "      }\n",
      "    ],\n",
      "    \"guidislink\": true,\n",
      "    \"id\": \"https://www.npr.org/rss/f89b58a8-2c8b-43d8-8400-2eaf2bb3a462\",\n",
      "    \"image\": {\n",
      "      \"href\": \"https://media.npr.org/assets/img/2017/10/02/thumbnail_3000x1688_wide-fde023c1eeb1861196a5f8346c7df5ee9d92e808.jpg?s=1400\"\n",
      "    },\n",
      "    \"itunes_duration\": \"620\",\n",
      "    \"itunes_explicit\": null,\n",
      "    \"itunes_title\": \"Special Update: Las Vegas Shooting\",\n",
      "    \"link\": \"https://www.npr.org/rss/f89b58a8-2c8b-43d8-8400-2eaf2bb3a462\",\n",
      "    \"links\": [\n",
      "      {\n",
      "        \"href\": \"https://play.podtrac.com/npr-510318/npr.mc.tritondigital.com/NPR_510318/media/anon.npr-mp3/npr/upfirst/2017/10/20171002_upfirst_up_first_update_171002.mp3?orgId=1&d=620&p=510318&story=555005674&t=podcast&e=555005674&ft=pod&f=510318\",\n",
      "        \"length\": \"0\",\n",
      "        \"rel\": \"enclosure\",\n",
      "        \"type\": \"audio/mpeg\"\n",
      "      }\n",
      "    ],\n",
      "    \"published\": \"Mon, 02 Oct 2017 08:49:00 -0400\",\n",
      "    \"published_parsed\": [\n",
      "      2017,\n",
      "      10,\n",
      "      2,\n",
      "      12,\n",
      "      49,\n",
      "      0,\n",
      "      0,\n",
      "      275,\n",
      "      0\n",
      "    ],\n",
      "    \"rights\": \"Copyright 2015 NPR - For Personal Use Only\",\n",
      "    \"rights_detail\": {\n",
      "      \"base\": \"https://www.npr.org/rss/podcast.php?id=510318\",\n",
      "      \"language\": null,\n",
      "      \"type\": \"text/plain\",\n",
      "      \"value\": \"Copyright 2015 NPR - For Personal Use Only\"\n",
      "    },\n",
      "    \"summary\": \"The deadliest mass shooting in modern U.S. history happened last night in Las Vegas, Nevada. NPR's Leila Fadel and Rachel Crosby of the Las Vegas Review-Journal report from the scene. NPR's Scott Detrow gives the view from Washington. More coverage throughout the day is available on npr.org and on your local public radio station.\",\n",
      "    \"summary_detail\": {\n",
      "      \"base\": \"https://www.npr.org/rss/podcast.php?id=510318\",\n",
      "      \"language\": null,\n",
      "      \"type\": \"text/html\",\n",
      "      \"value\": \"The deadliest mass shooting in modern U.S. history happened last night in Las Vegas, Nevada. NPR's Leila Fadel and Rachel Crosby of the Las Vegas Review-Journal report from the scene. NPR's Scott Detrow gives the view from Washington. More coverage throughout the day is available on npr.org and on your local public radio station.\"\n",
      "    },\n",
      "    \"title\": \"Special Update: Las Vegas Shooting\",\n",
      "    \"title_detail\": {\n",
      "      \"base\": \"https://www.npr.org/rss/podcast.php?id=510318\",\n",
      "      \"language\": null,\n",
      "      \"type\": \"text/plain\",\n",
      "      \"value\": \"Special Update: Las Vegas Shooting\"\n",
      "    }\n",
      "  },\n",
      "  {\n",
      "    \"author\": \"NPR\",\n",
      "    \"author_detail\": {\n",
      "      \"name\": \"NPR\"\n",
      "    },\n",
      "    \"authors\": [\n",
      "      {\n",
      "        \"name\": \"NPR\"\n",
      "      }\n",
      "    ],\n",
      "    \"content\": [\n",
      "      {\n",
      "        \"base\": \"https://www.npr.org/rss/podcast.php?id=510318\",\n",
      "        \"language\": null,\n",
      "        \"type\": \"text/plain\",\n",
      "        \"value\": \"A gunman opened fire at a concert in Las Vegas late last night. What happened and who carried out the attack? Also, how much aid has Puerto Rico received since a hurricane tore through the island almost two weeks ago?\"\n",
      "      },\n",
      "      {\n",
      "        \"base\": \"https://www.npr.org/rss/podcast.php?id=510318\",\n",
      "        \"language\": null,\n",
      "        \"type\": \"text/html\",\n",
      "        \"value\": \"A gunman opened fire at a concert in Las Vegas late last night. What happened and who carried out the attack? Also, how much aid has Puerto Rico received since a hurricane tore through the island almost two weeks ago?\"\n",
      "      }\n",
      "    ],\n",
      "    \"guidislink\": true,\n",
      "    \"id\": \"https://www.npr.org/rss/c1724fa1-6e53-4e81-95a9-0a6b7431a48d\",\n",
      "    \"image\": {\n",
      "      \"href\": \"https://media.npr.org/assets/img/2017/10/02/thumbnail_3000x1688_wide-fde023c1eeb1861196a5f8346c7df5ee9d92e808.jpg?s=1400\"\n",
      "    },\n",
      "    \"itunes_duration\": \"761\",\n",
      "    \"itunes_explicit\": null,\n",
      "    \"itunes_title\": \"Monday, October 2nd, 2017\",\n",
      "    \"link\": \"https://www.npr.org/rss/c1724fa1-6e53-4e81-95a9-0a6b7431a48d\",\n",
      "    \"links\": [\n",
      "      {\n",
      "        \"href\": \"https://play.podtrac.com/npr-510318/npr.mc.tritondigital.com/NPR_510318/media/anon.npr-mp3/npr/upfirst/2017/10/20171002_upfirst_100217upfirst.mp3?orgId=1&d=761&p=510318&story=554993196&t=podcast&e=554993196&ft=pod&f=510318\",\n",
      "        \"length\": \"0\",\n",
      "        \"rel\": \"enclosure\",\n",
      "        \"type\": \"audio/mpeg\"\n",
      "      }\n",
      "    ],\n",
      "    \"published\": \"Mon, 02 Oct 2017 05:50:00 -0400\",\n",
      "    \"published_parsed\": [\n",
      "      2017,\n",
      "      10,\n",
      "      2,\n",
      "      9,\n",
      "      50,\n",
      "      0,\n",
      "      0,\n",
      "      275,\n",
      "      0\n",
      "    ],\n",
      "    \"rights\": \"Copyright 2015 NPR - For Personal Use Only\",\n",
      "    \"rights_detail\": {\n",
      "      \"base\": \"https://www.npr.org/rss/podcast.php?id=510318\",\n",
      "      \"language\": null,\n",
      "      \"type\": \"text/plain\",\n",
      "      \"value\": \"Copyright 2015 NPR - For Personal Use Only\"\n",
      "    },\n",
      "    \"summary\": \"A gunman opened fire at a concert in Las Vegas late last night. What happened and who carried out the attack? Also, how much aid has Puerto Rico received since a hurricane tore through the island almost two weeks ago?\",\n",
      "    \"summary_detail\": {\n",
      "      \"base\": \"https://www.npr.org/rss/podcast.php?id=510318\",\n",
      "      \"language\": null,\n",
      "      \"type\": \"text/html\",\n",
      "      \"value\": \"A gunman opened fire at a concert in Las Vegas late last night. What happened and who carried out the attack? Also, how much aid has Puerto Rico received since a hurricane tore through the island almost two weeks ago?\"\n",
      "    },\n",
      "    \"title\": \"Monday, October 2nd, 2017\",\n",
      "    \"title_detail\": {\n",
      "      \"base\": \"https://www.npr.org/rss/podcast.php?id=510318\",\n",
      "      \"language\": null,\n",
      "      \"type\": \"text/plain\",\n",
      "      \"value\": \"Monday, October 2nd, 2017\"\n",
      "    }\n",
      "  },\n",
      "  {\n",
      "    \"author\": \"NPR\",\n",
      "    \"author_detail\": {\n",
      "      \"name\": \"NPR\"\n",
      "    },\n",
      "    \"authors\": [\n",
      "      {\n",
      "        \"name\": \"NPR\"\n",
      "      }\n",
      "    ],\n",
      "    \"content\": [\n",
      "      {\n",
      "        \"base\": \"https://www.npr.org/rss/podcast.php?id=510318\",\n",
      "        \"language\": null,\n",
      "        \"type\": \"text/plain\",\n",
      "        \"value\": \"Health and Human Services Secretary Tom Price says he will pay back part of the cost of his charter flights. More NFL players protest President Trump's national anthem comments. Also, why Catalonia is divided over a referendum on independence from Spain.\"\n",
      "      },\n",
      "      {\n",
      "        \"base\": \"https://www.npr.org/rss/podcast.php?id=510318\",\n",
      "        \"language\": null,\n",
      "        \"type\": \"text/html\",\n",
      "        \"value\": \"Health and Human Services Secretary Tom Price says he will pay back part of the cost of his charter flights. More NFL players protest President Trump's national anthem comments. Also, why Catalonia is divided over a referendum on independence from Spain.\"\n",
      "      }\n",
      "    ],\n",
      "    \"guidislink\": true,\n",
      "    \"id\": \"https://www.npr.org/rss/8cf58fd2-cd98-45f3-a47e-024a07dbdb8f\",\n",
      "    \"image\": {\n",
      "      \"href\": \"https://media.npr.org/assets/img/2017/09/29/thumbnail_3000x1688_wide-fde023c1eeb1861196a5f8346c7df5ee9d92e808.jpg?s=1400\"\n",
      "    },\n",
      "    \"itunes_duration\": \"852\",\n",
      "    \"itunes_explicit\": null,\n",
      "    \"itunes_title\": \"Friday, September 29th, 2017\",\n",
      "    \"link\": \"https://www.npr.org/rss/8cf58fd2-cd98-45f3-a47e-024a07dbdb8f\",\n",
      "    \"links\": [\n",
      "      {\n",
      "        \"href\": \"https://play.podtrac.com/npr-510318/npr.mc.tritondigital.com/NPR_510318/media/anon.npr-mp3/npr/upfirst/2017/09/20170929_upfirst_92917upfirst.mp3?orgId=1&d=852&p=510318&story=554434260&t=podcast&e=554434260&ft=pod&f=510318\",\n",
      "        \"length\": \"0\",\n",
      "        \"rel\": \"enclosure\",\n",
      "        \"type\": \"audio/mpeg\"\n",
      "      }\n",
      "    ],\n",
      "    \"published\": \"Fri, 29 Sep 2017 05:51:00 -0400\",\n",
      "    \"published_parsed\": [\n",
      "      2017,\n",
      "      9,\n",
      "      29,\n",
      "      9,\n",
      "      51,\n",
      "      0,\n",
      "      4,\n",
      "      272,\n",
      "      0\n",
      "    ],\n",
      "    \"rights\": \"Copyright 2015 NPR - For Personal Use Only\",\n",
      "    \"rights_detail\": {\n",
      "      \"base\": \"https://www.npr.org/rss/podcast.php?id=510318\",\n",
      "      \"language\": null,\n",
      "      \"type\": \"text/plain\",\n",
      "      \"value\": \"Copyright 2015 NPR - For Personal Use Only\"\n",
      "    },\n",
      "    \"summary\": \"Health and Human Services Secretary Tom Price says he will pay back part of the cost of his charter flights. More NFL players protest President Trump's national anthem comments. Also, why Catalonia is divided over a referendum on independence from Spain.\",\n",
      "    \"summary_detail\": {\n",
      "      \"base\": \"https://www.npr.org/rss/podcast.php?id=510318\",\n",
      "      \"language\": null,\n",
      "      \"type\": \"text/html\",\n",
      "      \"value\": \"Health and Human Services Secretary Tom Price says he will pay back part of the cost of his charter flights. More NFL players protest President Trump's national anthem comments. Also, why Catalonia is divided over a referendum on independence from Spain.\"\n",
      "    },\n",
      "    \"title\": \"Friday, September 29th, 2017\",\n",
      "    \"title_detail\": {\n",
      "      \"base\": \"https://www.npr.org/rss/podcast.php?id=510318\",\n",
      "      \"language\": null,\n",
      "      \"type\": \"text/plain\",\n",
      "      \"value\": \"Friday, September 29th, 2017\"\n",
      "    }\n",
      "  }\n",
      "]\n"
     ]
    }
   ],
   "source": [
    "print(json.dumps(feed['entries'], sort_keys=True, indent=2))"
   ]
  },
  {
   "cell_type": "code",
   "execution_count": 6,
   "metadata": {
    "collapsed": false
   },
   "outputs": [
    {
     "name": "stdout",
     "output_type": "stream",
     "text": [
      "{\n",
      "  \"author\": \"NPR (podcasts@npr.org)\",\n",
      "  \"author_detail\": {\n",
      "    \"email\": \"podcasts@npr.org\",\n",
      "    \"name\": \"NPR\"\n",
      "  },\n",
      "  \"authors\": [\n",
      "    {\n",
      "      \"email\": \"podcasts@npr.org\",\n",
      "      \"name\": \"NPR\"\n",
      "    }\n",
      "  ],\n",
      "  \"generator\": \"NPR API RSS Generator 0.94\",\n",
      "  \"generator_detail\": {\n",
      "    \"name\": \"NPR API RSS Generator 0.94\"\n",
      "  },\n",
      "  \"image\": {\n",
      "    \"href\": \"https://media.npr.org/assets/img/2017/03/21/upfirst_sq-ffcb53c89446b62b66fefb97b9356ad49b31bc5d.png?s=200\",\n",
      "    \"link\": \"http://www.npr.org/programs/morning-edition/\",\n",
      "    \"links\": [\n",
      "      {\n",
      "        \"href\": \"http://www.npr.org/programs/morning-edition/\",\n",
      "        \"rel\": \"alternate\",\n",
      "        \"type\": \"text/html\"\n",
      "      }\n",
      "    ],\n",
      "    \"title\": \"Up First\",\n",
      "    \"title_detail\": {\n",
      "      \"base\": \"https://www.npr.org/rss/podcast.php?id=510318\",\n",
      "      \"language\": null,\n",
      "      \"type\": \"text/plain\",\n",
      "      \"value\": \"Up First\"\n",
      "    }\n",
      "  },\n",
      "  \"itunes_block\": 0,\n",
      "  \"language\": \"en-us\",\n",
      "  \"link\": \"http://www.npr.org/programs/morning-edition/\",\n",
      "  \"links\": [\n",
      "    {\n",
      "      \"href\": \"http://www.npr.org/programs/morning-edition/\",\n",
      "      \"rel\": \"alternate\",\n",
      "      \"type\": \"text/html\"\n",
      "    }\n",
      "  ],\n",
      "  \"publisher_detail\": {\n",
      "    \"email\": \"podcasts@npr.org\",\n",
      "    \"name\": \"NPR\"\n",
      "  },\n",
      "  \"rights\": \"Copyright 2015 NPR - For Personal Use Only\",\n",
      "  \"rights_detail\": {\n",
      "    \"base\": \"https://www.npr.org/rss/podcast.php?id=510318\",\n",
      "    \"language\": null,\n",
      "    \"type\": \"text/plain\",\n",
      "    \"value\": \"Copyright 2015 NPR - For Personal Use Only\"\n",
      "  },\n",
      "  \"subtitle\": \"NPR's Up First is the news you need to start your day. The biggest stories and ideas \\u2014 from politics to pop culture \\u2014 in 10 minutes. Hosted by Rachel Martin, David Greene and Steve Inskeep, with reporting and analysis from NPR News. Available weekdays by 6 a.m. ET. Subscribe and listen, then support your local NPR station at donate.npr.org.\",\n",
      "  \"subtitle_detail\": {\n",
      "    \"base\": \"https://www.npr.org/rss/podcast.php?id=510318\",\n",
      "    \"language\": null,\n",
      "    \"type\": \"text/html\",\n",
      "    \"value\": \"NPR's Up First is the news you need to start your day. The biggest stories and ideas \\u2014 from politics to pop culture \\u2014 in 10 minutes. Hosted by Rachel Martin, David Greene and Steve Inskeep, with reporting and analysis from NPR News. Available weekdays by 6 a.m. ET. Subscribe and listen, then support your local NPR station at donate.npr.org.\"\n",
      "  },\n",
      "  \"summary\": \"NPR's Up First is the news you need to start your day. The biggest stories and ideas \\u2014 from politics to pop culture \\u2014 in 10 minutes. Hosted by Rachel Martin, David Greene and Steve Inskeep, with reporting and analysis from NPR News. Available weekdays by 6 a.m. ET. Subscribe and listen, then support your local NPR station at donate.npr.org.\",\n",
      "  \"summary_detail\": {\n",
      "    \"base\": \"https://www.npr.org/rss/podcast.php?id=510318\",\n",
      "    \"language\": null,\n",
      "    \"type\": \"text/plain\",\n",
      "    \"value\": \"NPR's Up First is the news you need to start your day. The biggest stories and ideas \\u2014 from politics to pop culture \\u2014 in 10 minutes. Hosted by Rachel Martin, David Greene and Steve Inskeep, with reporting and analysis from NPR News. Available weekdays by 6 a.m. ET. Subscribe and listen, then support your local NPR station at donate.npr.org.\"\n",
      "  },\n",
      "  \"tags\": [\n",
      "    {\n",
      "      \"label\": null,\n",
      "      \"scheme\": \"http://www.itunes.com/\",\n",
      "      \"term\": \"News & Politics\"\n",
      "    }\n",
      "  ],\n",
      "  \"title\": \"Up First\",\n",
      "  \"title_detail\": {\n",
      "    \"base\": \"https://www.npr.org/rss/podcast.php?id=510318\",\n",
      "    \"language\": null,\n",
      "    \"type\": \"text/plain\",\n",
      "    \"value\": \"Up First\"\n",
      "  },\n",
      "  \"updated\": \"Wed, 04 Oct 2017 05:45:00 -0400\",\n",
      "  \"updated_parsed\": [\n",
      "    2017,\n",
      "    10,\n",
      "    4,\n",
      "    9,\n",
      "    45,\n",
      "    0,\n",
      "    2,\n",
      "    277,\n",
      "    0\n",
      "  ]\n",
      "}\n"
     ]
    }
   ],
   "source": [
    "print(json.dumps(feed['feed'], sort_keys=True, indent=2))"
   ]
  },
  {
   "cell_type": "markdown",
   "metadata": {},
   "source": [
    "## Data Uncovered\n",
    "\n",
    "So, the 'entries' and 'feed' keys provide us with all the data that we need. Both the 'entries' and 'feed' keys possess dictionary values of their own. Within those value dictionaries we uncover podcast name, release date, show description and mp3 URL\n",
    "\n",
    "Using list indexing we are grabbing the first [0] element as it will always be the most recent."
   ]
  },
  {
   "cell_type": "code",
   "execution_count": 7,
   "metadata": {
    "collapsed": false
   },
   "outputs": [
    {
     "name": "stdout",
     "output_type": "stream",
     "text": [
      "Up First\n"
     ]
    }
   ],
   "source": [
    "# podcast name\n",
    "print(feed['feed']['title'])"
   ]
  },
  {
   "cell_type": "code",
   "execution_count": 8,
   "metadata": {
    "collapsed": false
   },
   "outputs": [
    {
     "name": "stdout",
     "output_type": "stream",
     "text": [
      "Wed, 04 Oct 2017 05:45:00 -0400\n"
     ]
    }
   ],
   "source": [
    "# release date\n",
    "print(feed['feed']['updated'])"
   ]
  },
  {
   "cell_type": "code",
   "execution_count": 9,
   "metadata": {
    "collapsed": false
   },
   "outputs": [
    {
     "name": "stdout",
     "output_type": "stream",
     "text": [
      "What have police learned about Stephen Paddock's cache of weapons and preparations for the mass shooting he carried out in Las Vegas? And how might that massacre shape the debate around gun control?\n"
     ]
    }
   ],
   "source": [
    "# show description\n",
    "print(feed['entries'][0]['content'][0]['value'])"
   ]
  },
  {
   "cell_type": "code",
   "execution_count": 10,
   "metadata": {
    "collapsed": false
   },
   "outputs": [
    {
     "name": "stdout",
     "output_type": "stream",
     "text": [
      "https://play.podtrac.com/npr-510318/npr.mc.tritondigital.com/NPR_510318/media/anon.npr-mp3/npr/upfirst/2017/10/20171004_upfirst_100417upfirst.mp3?orgId=1&d=762&p=510318&story=555523076&t=podcast&e=555523076&ft=pod&f=510318\n"
     ]
    }
   ],
   "source": [
    "# mp3 URL\n",
    "print(feed['entries'][0]['links'][0]['href'])"
   ]
  },
  {
   "cell_type": "markdown",
   "metadata": {},
   "source": [
    "## Downloading Data\n",
    "\n",
    "Now we can use the urllib package to retrieve that mp3 podcast file and we can simply store the text values as variables to keep records and/or use as filenames"
   ]
  },
  {
   "cell_type": "code",
   "execution_count": 11,
   "metadata": {
    "collapsed": true
   },
   "outputs": [],
   "source": [
    "import urllib"
   ]
  },
  {
   "cell_type": "code",
   "execution_count": 12,
   "metadata": {
    "collapsed": true
   },
   "outputs": [],
   "source": [
    "podcast_url = feed['entries'][0]['links'][0]['href']"
   ]
  },
  {
   "cell_type": "code",
   "execution_count": 13,
   "metadata": {
    "collapsed": false
   },
   "outputs": [
    {
     "data": {
      "text/plain": [
       "('upfirst_10_04_2017.mp3', <http.client.HTTPMessage at 0x7f64973f3780>)"
      ]
     },
     "execution_count": 13,
     "metadata": {},
     "output_type": "execute_result"
    }
   ],
   "source": [
    "urllib.request.urlretrieve(podcast_url, 'upfirst_10_04_2017.mp3')"
   ]
  },
  {
   "cell_type": "markdown",
   "metadata": {},
   "source": [
    "## Other RSS NPR Podcasts\n",
    "\n",
    "Earlier, I mentioned that I was able to get 24 other podcast IDs. Let's see how that works. \n",
    "\n",
    "I noticed that the podcasts on the [NPR directory site](http://www.npr.org/podcasts/) displayed a '5103##' id so we'll let Python do the work and find some IDs and podcasts."
   ]
  },
  {
   "cell_type": "code",
   "execution_count": 14,
   "metadata": {
    "collapsed": false
   },
   "outputs": [
    {
     "name": "stdout",
     "output_type": "stream",
     "text": [
      "{'Cabinet of Wonders': 510300, 'Crosscurrents': 510301, 'Barbershop from Tell Me More': 510302, 'How To Do Everything': 510303, 'Song Travels Express': 510304, 'Alt.Latino': 510305, 'Tiny Desk Concerts - Audio': 510306, 'Invisibilia': 510307, 'Hidden Brain': 510308, 'Bullseye with Jesse Thorn': 510309, 'NPR Politics Podcast': 510310, 'Embedded': 510311, 'Code Switch': 510312, 'How I Built This with Guy Raz': 510313, 'The Big Listen': 510314, 'Radio Ambulante': 510315, '1A': 510316, \"It's Been a Minute with Sam Sanders\": 510317, 'Up First': 510318, 'NPR News Now': 510320, 'Wow in the World': 510321, 'Live from the Poundstone Institute': 510322, \"What's Good with Stretch & Bobbito\": 510323, 'Rough Translation': 510324}\n"
     ]
    }
   ],
   "source": [
    "# create an empty dict to store IDs and podcast names\n",
    "npr_podcasts = {}\n",
    "\n",
    "for i in range(510300, 510400):\n",
    "    try:\n",
    "        feed = feedparser.parse('https://www.npr.org/rss/podcast.php?id={}'.format(str(i)))\n",
    "        # store the podcast name as the key, as it's easier to search\n",
    "        npr_podcasts[feed.feed.title] = i\n",
    "    except:\n",
    "        pass\n",
    "print(npr_podcasts)"
   ]
  },
  {
   "cell_type": "markdown",
   "metadata": {},
   "source": [
    "## Next Steps: Playing mp3 as Alarm\n",
    "\n",
    "So, I've figured out how to find and extract the details I want from the NPR site. Now, to figure out how to make the mp3 play on my computer...\n",
    "\n",
    "Setting up the alarm clock will be easy with cron. "
   ]
  },
  {
   "cell_type": "code",
   "execution_count": null,
   "metadata": {
    "collapsed": true
   },
   "outputs": [],
   "source": []
  }
 ],
 "metadata": {
  "kernelspec": {
   "display_name": "Python 3",
   "language": "python",
   "name": "python3"
  },
  "language_info": {
   "codemirror_mode": {
    "name": "ipython",
    "version": 3
   },
   "file_extension": ".py",
   "mimetype": "text/x-python",
   "name": "python",
   "nbconvert_exporter": "python",
   "pygments_lexer": "ipython3",
   "version": "3.6.0"
  }
 },
 "nbformat": 4,
 "nbformat_minor": 2
}
